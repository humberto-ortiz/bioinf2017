{
 "cells": [
  {
   "cell_type": "markdown",
   "metadata": {},
   "source": [
    "# Directed graphs\n",
    "\n",
    "### Humberto Ortiz-Zuazaga\n",
    "\n",
    "A *directed graph* $G = (V, E)$, also called a *digraph*, is a set $V$ of *vertices* and a set $E$ of *directed edges*, or edges that proceed from a *source* vertex to a *sink* vertex. Here's a crude diagram of a directed graph:\n",
    "\n",
    "```\n",
    "(1) ---> (2) ---> (3) <--\n",
    " \\______________________/\n",
    "```\n",
    "\n",
    "Where node 1 has an edge to node 2 and node 3, and node 2 has an edge to node 3."
   ]
  },
  {
   "cell_type": "markdown",
   "metadata": {},
   "source": [
    "## Directed graphs in python\n",
    "\n",
    "We can represent these graphs in python by keeping track of forward and reverse edges, so we can find neighbors for any vertex in either direction. Here we'll build an empty graph, using dicts to keep track of the forward and reverse relationships."
   ]
  },
  {
   "cell_type": "code",
   "execution_count": 1,
   "metadata": {
    "collapsed": true
   },
   "outputs": [],
   "source": [
    "graph = {\"forward\" : {}, \"reverse\" : {}}"
   ]
  },
  {
   "cell_type": "markdown",
   "metadata": {},
   "source": [
    "Adding the edge from 1 to 2 requires two steps, adding the forward relationship, and adding the reverse."
   ]
  },
  {
   "cell_type": "code",
   "execution_count": 2,
   "metadata": {},
   "outputs": [
    {
     "data": {
      "text/plain": [
       "{'forward': {1: [2]}, 'reverse': {2: [1]}}"
      ]
     },
     "execution_count": 2,
     "metadata": {},
     "output_type": "execute_result"
    }
   ],
   "source": [
    "graph[\"forward\"][1] = [2]\n",
    "graph[\"reverse\"][2] = [1]\n",
    "graph"
   ]
  },
  {
   "cell_type": "markdown",
   "metadata": {},
   "source": [
    "To add the edge between 1 and 3, we have to be careful, we need to append 3 to the neighbor list of 1."
   ]
  },
  {
   "cell_type": "code",
   "execution_count": 3,
   "metadata": {},
   "outputs": [
    {
     "data": {
      "text/plain": [
       "{'forward': {1: [2, 3]}, 'reverse': {2: [1], 3: [1]}}"
      ]
     },
     "execution_count": 3,
     "metadata": {},
     "output_type": "execute_result"
    }
   ],
   "source": [
    "graph[\"forward\"][1].append(3)\n",
    "graph[\"reverse\"][3] = [1]\n",
    "graph"
   ]
  },
  {
   "cell_type": "markdown",
   "metadata": {},
   "source": [
    "When can we assign to the neighbor list and when do we have to append? Let's see what happend when we add the edge from 2 to 3."
   ]
  },
  {
   "cell_type": "code",
   "execution_count": 4,
   "metadata": {},
   "outputs": [
    {
     "data": {
      "text/plain": [
       "{'forward': {1: [2, 3], 2: [3]}, 'reverse': {2: [1], 3: [1, 2]}}"
      ]
     },
     "execution_count": 4,
     "metadata": {},
     "output_type": "execute_result"
    }
   ],
   "source": [
    "graph[\"forward\"][2] = [3]\n",
    "graph[\"reverse\"][3].append(2)\n",
    "graph"
   ]
  },
  {
   "cell_type": "markdown",
   "metadata": {},
   "source": [
    "## Exercises\n",
    "\n",
    "Write definitions for these two functions."
   ]
  },
  {
   "cell_type": "code",
   "execution_count": 5,
   "metadata": {
    "collapsed": true
   },
   "outputs": [],
   "source": [
    "def make_digraph():\n",
    "    \"Make an empty directed graph\"\n",
    "    pass"
   ]
  },
  {
   "cell_type": "code",
   "execution_count": 6,
   "metadata": {
    "collapsed": true
   },
   "outputs": [],
   "source": [
    "def add_edge(digraph, source, sink):\n",
    "    \"Add a directed edge from the source vertex to the sink vertex to the digraph.\"\n",
    "    pass"
   ]
  },
  {
   "cell_type": "markdown",
   "metadata": {},
   "source": [
    "## Tests\n",
    "\n",
    "After completing the exercise, these commands should produce a graph like the example."
   ]
  },
  {
   "cell_type": "code",
   "execution_count": 7,
   "metadata": {
    "collapsed": true
   },
   "outputs": [],
   "source": [
    "graph2 = make_digraph()\n",
    "add_edge(graph2, 1, 2)\n",
    "add_edge(graph2, 1, 3)\n",
    "add_edge(graph2, 2, 3)\n",
    "graph2"
   ]
  },
  {
   "cell_type": "markdown",
   "metadata": {},
   "source": [
    "## Even and odd vertices\n",
    "\n",
    "In class we saw that in order to construct Eulerian paths in directed graphs, we need to change the concept of an *even* or *odd* vertex. In particular, in a directed graph, a node is even if it has the same number of forward edges leaving it as edges inbound to it. A vertex is *odd* otherwise. We can write a function to return the number of inbound edges minus the number of outbound edges."
   ]
  },
  {
   "cell_type": "code",
   "execution_count": 8,
   "metadata": {
    "collapsed": true
   },
   "outputs": [],
   "source": [
    "def check_vertex(digraph, vertex):\n",
    "    \"Check if a vertex in a digraph is even or odd.\"\n",
    "    pass"
   ]
  },
  {
   "cell_type": "markdown",
   "metadata": {},
   "source": [
    "To have an Eulerian path, all verticies except for two (zero for an Eulerian cycle) must be even, The odd verticies (if any) must have one more outbound edge than inbound (for the start vertex) and one more inbound than outbound (for the end vertex)"
   ]
  },
  {
   "cell_type": "markdown",
   "metadata": {},
   "source": [
    "## Eulerian path in directed graph\n",
    "\n",
    "The algorithm we described for Eulerian paths prevously will work for directed graphs with a few small modifications."
   ]
  },
  {
   "cell_type": "code",
   "execution_count": 9,
   "metadata": {
    "collapsed": true
   },
   "outputs": [],
   "source": [
    "def find_path(digraph):\n",
    "    \"Find an Eulerian path through digraph.\"\n",
    "    path = []\n",
    "    # Check if G has an Eulerian path or exit\n",
    "    # make a copy of G (from now on work on the copy)\n",
    "    # Choose a starting vertex\n",
    "    # Push starting vertex onto stack\n",
    "    # while items remain on the stack:\n",
    "        # set current vertex to top of stack\n",
    "        # if current vertex has forward (outbound) edges\n",
    "            # put neighbor on stack\n",
    "            # remove edge from current vertex to neighbor\n",
    "        # else\n",
    "            # append current vertex to path\n",
    "            # pop current vertex from stack\n",
    "    return path"
   ]
  },
  {
   "cell_type": "markdown",
   "metadata": {},
   "source": [
    "You will also need to implement `remove_edge`, and functions to check if a path exists, and choose a starting node."
   ]
  },
  {
   "cell_type": "code",
   "execution_count": 10,
   "metadata": {
    "collapsed": true
   },
   "outputs": [],
   "source": [
    "def remove_edge(digraph, source, sink):\n",
    "    pass"
   ]
  },
  {
   "cell_type": "code",
   "execution_count": 11,
   "metadata": {
    "collapsed": true
   },
   "outputs": [],
   "source": [
    "def has_path(digraph):\n",
    "    \"Test if this digraph has an Eulerian path\"\n",
    "    pass"
   ]
  },
  {
   "cell_type": "code",
   "execution_count": 12,
   "metadata": {},
   "outputs": [
    {
     "ename": "SyntaxError",
     "evalue": "invalid syntax (<ipython-input-12-96a8791f2b21>, line 1)",
     "output_type": "error",
     "traceback": [
      "\u001b[0;36m  File \u001b[0;32m\"<ipython-input-12-96a8791f2b21>\"\u001b[0;36m, line \u001b[0;32m1\u001b[0m\n\u001b[0;31m    dev pick_start(digraph):\u001b[0m\n\u001b[0m                 ^\u001b[0m\n\u001b[0;31mSyntaxError\u001b[0m\u001b[0;31m:\u001b[0m invalid syntax\n"
     ]
    }
   ],
   "source": [
    "def pick_start(digraph):\n",
    "    \"Find a suitable starting vertex in digraph\"\n",
    "    pass"
   ]
  },
  {
   "cell_type": "markdown",
   "metadata": {},
   "source": [
    "## Assignment: reimplement `find_path`\n",
    "\n",
    "Modify your `find_path` function so it works with directed graphs. When completed, you should be able to evaluate the following test and get back a path like `[1, 2, 3, 4]`."
   ]
  },
  {
   "cell_type": "code",
   "execution_count": null,
   "metadata": {},
   "outputs": [],
   "source": [
    "graph3 = make_digraph()\n",
    "add_edge(graph3, 1, 2)\n",
    "add_edge(graph3, 2, 3)\n",
    "add_edge(graph3, 3, 1)\n",
    "add_edge(graph3, 1, 4)\n",
    "find_path(graph3)"
   ]
  }
 ],
 "metadata": {
  "kernelspec": {
   "display_name": "Python 3",
   "language": "python",
   "name": "python3"
  },
  "language_info": {
   "codemirror_mode": {
    "name": "ipython",
    "version": 3
   },
   "file_extension": ".py",
   "mimetype": "text/x-python",
   "name": "python",
   "nbconvert_exporter": "python",
   "pygments_lexer": "ipython3",
   "version": "3.6.1"
  }
 },
 "nbformat": 4,
 "nbformat_minor": 2
}
