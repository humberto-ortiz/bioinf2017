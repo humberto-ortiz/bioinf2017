{
 "cells": [
  {
   "cell_type": "markdown",
   "metadata": {},
   "source": [
    "# Directed graphs\n",
    "\n",
    "### Humberto Ortiz-Zuazaga\n",
    "\n",
    "A *directed graph* $G = (V, E)$, also called a *digraph*, is a set $V$ of *vertices* and a set $E$ of *directed edges*, or edges that proceed from a *source* vertex to a *sink* vertex. Here's a crude diagram of a directed graph:\n",
    "\n",
    "```\n",
    "(1) ---> (2) ---> (3) <--\n",
    " \\______________________/\n",
    "```\n",
    "\n",
    "Where node 1 has an edge to node 2 and node 3, and node 2 has an edge to node 3."
   ]
  },
  {
   "cell_type": "markdown",
   "metadata": {},
   "source": [
    "## Directed graphs in python\n",
    "\n",
    "We can represent these graphs in python by keeping track of forward and reverse edges, so we can find neighbors for any vertex in either direction. Here we'll build an empty graph, using dicts to keep track of the forward and reverse relationships."
   ]
  },
  {
   "cell_type": "code",
   "execution_count": 1,
   "metadata": {
    "collapsed": true
   },
   "outputs": [],
   "source": [
    "graph = {\"forward\" : {}, \"reverse\" : {}}"
   ]
  },
  {
   "cell_type": "markdown",
   "metadata": {},
   "source": [
    "Adding the edge from 1 to 2 requires two steps, adding the forward relationship, and adding the reverse."
   ]
  },
  {
   "cell_type": "code",
   "execution_count": 2,
   "metadata": {},
   "outputs": [
    {
     "data": {
      "text/plain": [
       "{'forward': {1: [2]}, 'reverse': {2: [1]}}"
      ]
     },
     "execution_count": 2,
     "metadata": {},
     "output_type": "execute_result"
    }
   ],
   "source": [
    "graph[\"forward\"][1] = [2]\n",
    "graph[\"reverse\"][2] = [1]\n",
    "graph"
   ]
  },
  {
   "cell_type": "markdown",
   "metadata": {},
   "source": [
    "To add the edge between 1 and 3, we have to be careful, we need to append 3 to the neighbor list of 1."
   ]
  },
  {
   "cell_type": "code",
   "execution_count": 3,
   "metadata": {},
   "outputs": [
    {
     "data": {
      "text/plain": [
       "{'forward': {1: [2, 3]}, 'reverse': {2: [1], 3: [1]}}"
      ]
     },
     "execution_count": 3,
     "metadata": {},
     "output_type": "execute_result"
    }
   ],
   "source": [
    "graph[\"forward\"][1].append(3)\n",
    "graph[\"reverse\"][3] = [1]\n",
    "graph"
   ]
  },
  {
   "cell_type": "markdown",
   "metadata": {},
   "source": [
    "When can we assign to the neighbor list and when do we have to append? Let's see what happend when we add the edge from 2 to 3."
   ]
  },
  {
   "cell_type": "code",
   "execution_count": 4,
   "metadata": {},
   "outputs": [
    {
     "data": {
      "text/plain": [
       "{'forward': {1: [2, 3], 2: [3]}, 'reverse': {2: [1], 3: [1, 2]}}"
      ]
     },
     "execution_count": 4,
     "metadata": {},
     "output_type": "execute_result"
    }
   ],
   "source": [
    "graph[\"forward\"][2] = [3]\n",
    "graph[\"reverse\"][3].append(2)\n",
    "graph"
   ]
  },
  {
   "cell_type": "markdown",
   "metadata": {},
   "source": [
    "## Exercises\n",
    "\n",
    "Write definitions for these two functions."
   ]
  },
  {
   "cell_type": "code",
   "execution_count": 5,
   "metadata": {
    "collapsed": true
   },
   "outputs": [],
   "source": [
    "def make_digraph():\n",
    "    \"Make an empty directed graph\"\n",
    "    pass"
   ]
  },
  {
   "cell_type": "code",
   "execution_count": 6,
   "metadata": {
    "collapsed": true
   },
   "outputs": [],
   "source": [
    "def add_edge(digraph, source, sink):\n",
    "    \"Add a directed edge from the source vertex to the sink vertex to the digraph.\"\n",
    "    pass"
   ]
  },
  {
   "cell_type": "markdown",
   "metadata": {},
   "source": [
    "## Tests\n",
    "\n",
    "After completing the exercise, these commands should produce a graph like the example."
   ]
  },
  {
   "cell_type": "code",
   "execution_count": 7,
   "metadata": {
    "collapsed": true
   },
   "outputs": [],
   "source": [
    "graph2 = make_digraph()\n",
    "add_edge(graph2, 1, 2)\n",
    "add_edge(graph2, 1, 3)\n",
    "add_edge(graph2, 2, 3)\n",
    "graph2"
   ]
  }
 ],
 "metadata": {
  "kernelspec": {
   "display_name": "Python 3",
   "language": "python",
   "name": "python3"
  },
  "language_info": {
   "codemirror_mode": {
    "name": "ipython",
    "version": 3
   },
   "file_extension": ".py",
   "mimetype": "text/x-python",
   "name": "python",
   "nbconvert_exporter": "python",
   "pygments_lexer": "ipython3",
   "version": "3.6.1"
  }
 },
 "nbformat": 4,
 "nbformat_minor": 2
}
