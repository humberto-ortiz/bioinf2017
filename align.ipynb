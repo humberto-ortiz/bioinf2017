{
 "cells": [
  {
   "cell_type": "markdown",
   "metadata": {},
   "source": [
    "# Pairwise Alignment Example\n",
    "\n",
    "## Humberto Ortiz-Zuazaga\n",
    "\n",
    "# Introduction\n",
    "\n",
    "This jupyter notebook presents a pairwise alignment of two nucleotide sequences with an edit distance metric."
   ]
  },
  {
   "cell_type": "code",
   "execution_count": 1,
   "metadata": {
    "collapsed": false
   },
   "outputs": [],
   "source": [
    "import numpy as np"
   ]
  },
  {
   "cell_type": "markdown",
   "metadata": {},
   "source": [
    "Two nucleotide sequences to align."
   ]
  },
  {
   "cell_type": "code",
   "execution_count": 2,
   "metadata": {
    "collapsed": true
   },
   "outputs": [],
   "source": [
    "seq1 = \"GCATGCU\""
   ]
  },
  {
   "cell_type": "code",
   "execution_count": 3,
   "metadata": {
    "collapsed": true
   },
   "outputs": [],
   "source": [
    "seq2 = \"GATTACA\""
   ]
  },
  {
   "cell_type": "markdown",
   "metadata": {},
   "source": [
    "We use numpy to create arrays for storing the cost of subalignments. Following wikipedia [1], we make space for one extra row and column. Wikipedia writes the first sequence across the columns, which is the second index in python. If you want to check for yourself, make the two sequences different lengths and check the number of rows and columns."
   ]
  },
  {
   "cell_type": "code",
   "execution_count": 4,
   "metadata": {
    "collapsed": false
   },
   "outputs": [
    {
     "data": {
      "text/plain": [
       "array([[0, 0, 0, 0, 0, 0, 0, 0],\n",
       "       [0, 0, 0, 0, 0, 0, 0, 0],\n",
       "       [0, 0, 0, 0, 0, 0, 0, 0],\n",
       "       [0, 0, 0, 0, 0, 0, 0, 0],\n",
       "       [0, 0, 0, 0, 0, 0, 0, 0],\n",
       "       [0, 0, 0, 0, 0, 0, 0, 0],\n",
       "       [0, 0, 0, 0, 0, 0, 0, 0],\n",
       "       [0, 0, 0, 0, 0, 0, 0, 0]], dtype=int8)"
      ]
     },
     "execution_count": 4,
     "metadata": {},
     "output_type": "execute_result"
    }
   ],
   "source": [
    "A = np.zeros((len(seq2)+1, len(seq1)+1), np.int8)\n",
    "A"
   ]
  },
  {
   "cell_type": "markdown",
   "metadata": {},
   "source": [
    "We can also create an array to record the direction of the best match."
   ]
  },
  {
   "cell_type": "code",
   "execution_count": 5,
   "metadata": {
    "collapsed": false
   },
   "outputs": [
    {
     "data": {
      "text/plain": [
       "array([[' ', ' ', ' ', ' ', ' ', ' ', ' '],\n",
       "       [' ', ' ', ' ', ' ', ' ', ' ', ' '],\n",
       "       [' ', ' ', ' ', ' ', ' ', ' ', ' '],\n",
       "       [' ', ' ', ' ', ' ', ' ', ' ', ' '],\n",
       "       [' ', ' ', ' ', ' ', ' ', ' ', ' '],\n",
       "       [' ', ' ', ' ', ' ', ' ', ' ', ' '],\n",
       "       [' ', ' ', ' ', ' ', ' ', ' ', ' ']], \n",
       "      dtype='<U1')"
      ]
     },
     "execution_count": 5,
     "metadata": {},
     "output_type": "execute_result"
    }
   ],
   "source": [
    "D = np.array([\" \"] * (len(seq1)*len(seq2))).reshape(len(seq2), len(seq1))\n",
    "D"
   ]
  },
  {
   "cell_type": "markdown",
   "metadata": {},
   "source": [
    "# Initialization\n",
    "\n",
    "Fill in increaseing costs across the first row and down the first column."
   ]
  },
  {
   "cell_type": "code",
   "execution_count": 6,
   "metadata": {
    "collapsed": true
   },
   "outputs": [],
   "source": [
    "for i in range(len(seq1)+1):\n",
    "    A[i,0]= -i"
   ]
  },
  {
   "cell_type": "code",
   "execution_count": 7,
   "metadata": {
    "collapsed": false
   },
   "outputs": [
    {
     "data": {
      "text/plain": [
       "array([[ 0,  0,  0,  0,  0,  0,  0,  0],\n",
       "       [-1,  0,  0,  0,  0,  0,  0,  0],\n",
       "       [-2,  0,  0,  0,  0,  0,  0,  0],\n",
       "       [-3,  0,  0,  0,  0,  0,  0,  0],\n",
       "       [-4,  0,  0,  0,  0,  0,  0,  0],\n",
       "       [-5,  0,  0,  0,  0,  0,  0,  0],\n",
       "       [-6,  0,  0,  0,  0,  0,  0,  0],\n",
       "       [-7,  0,  0,  0,  0,  0,  0,  0]], dtype=int8)"
      ]
     },
     "execution_count": 7,
     "metadata": {},
     "output_type": "execute_result"
    }
   ],
   "source": [
    "A"
   ]
  },
  {
   "cell_type": "code",
   "execution_count": 8,
   "metadata": {
    "collapsed": true
   },
   "outputs": [],
   "source": [
    "for i in range(len(seq2)+1):\n",
    "    A[0,i]= -i"
   ]
  },
  {
   "cell_type": "code",
   "execution_count": 9,
   "metadata": {
    "collapsed": false
   },
   "outputs": [
    {
     "data": {
      "text/plain": [
       "array([[ 0, -1, -2, -3, -4, -5, -6, -7],\n",
       "       [-1,  0,  0,  0,  0,  0,  0,  0],\n",
       "       [-2,  0,  0,  0,  0,  0,  0,  0],\n",
       "       [-3,  0,  0,  0,  0,  0,  0,  0],\n",
       "       [-4,  0,  0,  0,  0,  0,  0,  0],\n",
       "       [-5,  0,  0,  0,  0,  0,  0,  0],\n",
       "       [-6,  0,  0,  0,  0,  0,  0,  0],\n",
       "       [-7,  0,  0,  0,  0,  0,  0,  0]], dtype=int8)"
      ]
     },
     "execution_count": 9,
     "metadata": {},
     "output_type": "execute_result"
    }
   ],
   "source": [
    "A"
   ]
  },
  {
   "cell_type": "markdown",
   "metadata": {},
   "source": [
    "# Computing cost of subalignment\n",
    "\n",
    "Given two sequences s1 and s2, the initialized matrix of costs, the matrix to record directions and the indicies i and j for which we want to work, an alignment proceeds by one of several cases. Insert a gap in s1, insert a gap in s2, match s1 and s2, or mismatch. We want to take the smallest cost, and record from which direction it came."
   ]
  },
  {
   "cell_type": "code",
   "execution_count": 10,
   "metadata": {
    "collapsed": false
   },
   "outputs": [],
   "source": [
    "def align(s1, s2, costs, directions, i, j):\n",
    "    \"Compute cost and record direction of a partial alignment of S1 and S2 up to positions i and j.\"\n",
    "    # Compute cost if inserting a gap in s2\n",
    "    up = costs[i-1, j] - 1\n",
    "    # compute cost if inserting gap in s1\n",
    "    left = costs[i, j-1] - 1\n",
    "    # is the diagonal a match?\n",
    "    if s1[j-1] == s2[i-1]:\n",
    "        c = 1\n",
    "    # or a mismmatch?\n",
    "    else:\n",
    "        c = -1\n",
    "    # compute cost taking a letter from each seq\n",
    "    diag = costs[i-1,j-1] + c\n",
    "\n",
    "    # take the best cost\n",
    "    best = max(up, left, diag)\n",
    "    costs[i,j] = best\n",
    "    \n",
    "    # Now record the direction we came from\n",
    "    # we can't store multiple arrows, so just pick one direction\n",
    "    if up == best:\n",
    "        directions[i-1,j-1] = \"|\"\n",
    "    elif left == best:\n",
    "        directions[i-1,j-1] = \"_\"\n",
    "    else:\n",
    "        directions[i-1,j-1] = \"\\\\\" # is one diagonal slash\n",
    "    "
   ]
  },
  {
   "cell_type": "markdown",
   "metadata": {},
   "source": [
    "Now we can fill in the tables in order by looping over the rows and columns."
   ]
  },
  {
   "cell_type": "code",
   "execution_count": 11,
   "metadata": {
    "collapsed": false
   },
   "outputs": [],
   "source": [
    "for i in range(1, len(seq1)+1):\n",
    "    for j in range(1, len(seq2)+1):\n",
    "        align(seq1, seq2, A, D, i, j)"
   ]
  },
  {
   "cell_type": "markdown",
   "metadata": {},
   "source": [
    "# Results"
   ]
  },
  {
   "cell_type": "code",
   "execution_count": 16,
   "metadata": {
    "collapsed": false
   },
   "outputs": [
    {
     "name": "stdout",
     "output_type": "stream",
     "text": [
      "[[ 0 -1 -2 -3 -4 -5 -6 -7]\n",
      " [-1  1  0 -1 -2 -3 -4 -5]\n",
      " [-2  0  0  1  0 -1 -2 -3]\n",
      " [-3 -1 -1  0  2  1  0 -1]\n",
      " [-4 -2 -2 -1  1  1  0 -1]\n",
      " [-5 -3 -3 -1  0  0  0 -1]\n",
      " [-6 -4 -2 -2 -1 -1  1  0]\n",
      " [-7 -5 -3 -1 -2 -2  0  0]]\n"
     ]
    }
   ],
   "source": [
    "print(A)"
   ]
  },
  {
   "cell_type": "code",
   "execution_count": 13,
   "metadata": {
    "collapsed": false
   },
   "outputs": [
    {
     "name": "stdout",
     "output_type": "stream",
     "text": [
      "\\ _ _ _ _ _ _ \n",
      "| \\ \\ _ _ _ _ \n",
      "| | | \\ _ _ _ \n",
      "| | | | \\ _ _ \n",
      "| | \\ | | \\ _ \n",
      "| \\ | | | \\ _ \n",
      "| | \\ | | | \\ \n"
     ]
    }
   ],
   "source": [
    "for i in range(D.shape[0]):\n",
    "    for j in range(D.shape[1]):\n",
    "        print(D[i,j], sep=\"\", end=\" \")\n",
    "    print()"
   ]
  },
  {
   "cell_type": "markdown",
   "metadata": {},
   "source": [
    "From D we can reconstruct the alignment starting at the bottom right corner. Since the entry is `\\` we take one letter from the end of each sequence, and move diagonaly up and to the left. That entry is also `\\` so we repeat. The next entry is `|`, so we insert a gap and move up. Continuing until we reach the upper left corner."
   ]
  },
  {
   "cell_type": "markdown",
   "metadata": {},
   "source": [
    "# Homework\n",
    "\n",
    "Can you develop a function `PrintAlign(D, s1, s2, n, m)` that recursively prints out the alignment given the directions, strings, and lengths of the strings? The book has an algorithm `PrintLCS` in Chapter 6 that *almost* does what you want."
   ]
  },
  {
   "cell_type": "code",
   "execution_count": 14,
   "metadata": {
    "collapsed": true
   },
   "outputs": [],
   "source": [
    "def PrintAlign(D, s1, s2, n, m):\n",
    "    # Do something amazing here\n",
    "    return"
   ]
  },
  {
   "cell_type": "markdown",
   "metadata": {},
   "source": [
    "When you complete your homework, the following block should work:"
   ]
  },
  {
   "cell_type": "code",
   "execution_count": 15,
   "metadata": {
    "collapsed": false
   },
   "outputs": [],
   "source": [
    "PrintAlign(D, seq1, seq2, len(seq1), len(seq2))"
   ]
  },
  {
   "cell_type": "markdown",
   "metadata": {
    "collapsed": true
   },
   "source": [
    "# References\n",
    "\n",
    "[1] https://en.wikipedia.org/wiki/Needleman%E2%80%93Wunsch_algorithm"
   ]
  }
 ],
 "metadata": {
  "kernelspec": {
   "display_name": "Python 3",
   "language": "python",
   "name": "python3"
  },
  "language_info": {
   "codemirror_mode": {
    "name": "ipython",
    "version": 3
   },
   "file_extension": ".py",
   "mimetype": "text/x-python",
   "name": "python",
   "nbconvert_exporter": "python",
   "pygments_lexer": "ipython3",
   "version": "3.5.0"
  }
 },
 "nbformat": 4,
 "nbformat_minor": 0
}
