{
 "cells": [
  {
   "cell_type": "markdown",
   "metadata": {},
   "source": [
    "# Python dictionaries and graphs\n",
    "\n",
    "## Humberto Ortiz-Zuazaga\n",
    "\n",
    "I want to show you one way of analyzing sequences that has become increasingly important since next-generation sequencing came to the fore. Many sequence analysis algorithms are based on the notion of graphs. In this context, a *graph* is a set of *verticies* (sometimes called *nodes*) and a set of *edges* (sometimes called *arcs*) that connect two nodes.\n",
    "\n",
    "In order to work with graphs, I will introduce python *dictionaries* or `dict`. A data structure native to python that lets us build more complex data structures. Like lists, dictionaries make our life easier."
   ]
  },
  {
   "cell_type": "markdown",
   "metadata": {},
   "source": [
    "## Dictionaries\n",
    "\n",
    "We can create an empty dictionarty using curly braces `{}`"
   ]
  },
  {
   "cell_type": "code",
   "execution_count": 1,
   "metadata": {
    "collapsed": true
   },
   "outputs": [],
   "source": [
    "responses = {}"
   ]
  },
  {
   "cell_type": "code",
   "execution_count": 2,
   "metadata": {
    "collapsed": false
   },
   "outputs": [
    {
     "data": {
      "text/plain": [
       "{}"
      ]
     },
     "execution_count": 2,
     "metadata": {},
     "output_type": "execute_result"
    }
   ],
   "source": [
    "responses"
   ]
  },
  {
   "cell_type": "code",
   "execution_count": 3,
   "metadata": {
    "collapsed": false
   },
   "outputs": [
    {
     "data": {
      "text/plain": [
       "dict"
      ]
     },
     "execution_count": 3,
     "metadata": {},
     "output_type": "execute_result"
    }
   ],
   "source": [
    "type(responses)"
   ]
  },
  {
   "cell_type": "markdown",
   "metadata": {},
   "source": [
    "A dictionary can store *values* for a *key*. In this example, we will store the value \"world\", at the key \"hello\"."
   ]
  },
  {
   "cell_type": "code",
   "execution_count": 4,
   "metadata": {
    "collapsed": true
   },
   "outputs": [],
   "source": [
    "responses[\"hello\"] = \"world\""
   ]
  },
  {
   "cell_type": "code",
   "execution_count": 5,
   "metadata": {
    "collapsed": false
   },
   "outputs": [
    {
     "data": {
      "text/plain": [
       "{'hello': 'world'}"
      ]
     },
     "execution_count": 5,
     "metadata": {},
     "output_type": "execute_result"
    }
   ],
   "source": [
    "responses"
   ]
  },
  {
   "cell_type": "markdown",
   "metadata": {},
   "source": [
    "One nice property of dicts is that they can store more key/value pairs."
   ]
  },
  {
   "cell_type": "code",
   "execution_count": 6,
   "metadata": {
    "collapsed": true
   },
   "outputs": [],
   "source": [
    "responses[\"hola\"] = \"mundo\""
   ]
  },
  {
   "cell_type": "code",
   "execution_count": 7,
   "metadata": {
    "collapsed": false
   },
   "outputs": [
    {
     "data": {
      "text/plain": [
       "{'hello': 'world', 'hola': 'mundo'}"
      ]
     },
     "execution_count": 7,
     "metadata": {},
     "output_type": "execute_result"
    }
   ],
   "source": [
    "responses"
   ]
  },
  {
   "cell_type": "code",
   "execution_count": 8,
   "metadata": {
    "collapsed": true
   },
   "outputs": [],
   "source": [
    "def greet(salutation):\n",
    "    try:\n",
    "        print(salutation, responses[salutation])\n",
    "    except KeyError:\n",
    "        print(\"Sorry, don't know how to respond to\", salutation)"
   ]
  },
  {
   "cell_type": "code",
   "execution_count": 9,
   "metadata": {
    "collapsed": false
   },
   "outputs": [
    {
     "name": "stdout",
     "output_type": "stream",
     "text": [
      "hello world\n"
     ]
    }
   ],
   "source": [
    "greet(\"hello\")"
   ]
  },
  {
   "cell_type": "code",
   "execution_count": 10,
   "metadata": {
    "collapsed": false
   },
   "outputs": [
    {
     "name": "stdout",
     "output_type": "stream",
     "text": [
      "hola mundo\n"
     ]
    }
   ],
   "source": [
    "greet(\"hola\")"
   ]
  },
  {
   "cell_type": "markdown",
   "metadata": {},
   "source": [
    "What happens if you ask for an unknown key?"
   ]
  },
  {
   "cell_type": "code",
   "execution_count": 11,
   "metadata": {
    "collapsed": false
   },
   "outputs": [
    {
     "name": "stdout",
     "output_type": "stream",
     "text": [
      "Sorry, don't know how to respond to 你好\n"
     ]
    }
   ],
   "source": [
    "greet(\"你好\")"
   ]
  },
  {
   "cell_type": "markdown",
   "metadata": {},
   "source": [
    "We can update the dict, and ask again:"
   ]
  },
  {
   "cell_type": "code",
   "execution_count": 12,
   "metadata": {
    "collapsed": true
   },
   "outputs": [],
   "source": [
    "responses[\"你好\"] =  \"世界\""
   ]
  },
  {
   "cell_type": "code",
   "execution_count": 13,
   "metadata": {
    "collapsed": false
   },
   "outputs": [
    {
     "name": "stdout",
     "output_type": "stream",
     "text": [
      "你好 世界\n"
     ]
    }
   ],
   "source": [
    "greet(\"你好\")"
   ]
  },
  {
   "cell_type": "markdown",
   "metadata": {},
   "source": [
    "## More tricks with dicts\n",
    "\n",
    "Keys and values don't have to be strings, many other python data types can be used. For example, we can rewrite some of our counting loops to use a dict instead of variables to count nucleotides"
   ]
  },
  {
   "cell_type": "code",
   "execution_count": 14,
   "metadata": {
    "collapsed": true
   },
   "outputs": [],
   "source": [
    "counts = {}"
   ]
  },
  {
   "cell_type": "code",
   "execution_count": 15,
   "metadata": {
    "collapsed": true
   },
   "outputs": [],
   "source": [
    "sequence = \"acggtattcggt\""
   ]
  },
  {
   "cell_type": "code",
   "execution_count": 16,
   "metadata": {
    "collapsed": true
   },
   "outputs": [],
   "source": [
    "for base in sequence:\n",
    "    if not base in counts:\n",
    "        counts[base] = 1\n",
    "    else:\n",
    "        counts[base] += 1"
   ]
  },
  {
   "cell_type": "code",
   "execution_count": 17,
   "metadata": {
    "collapsed": false
   },
   "outputs": [
    {
     "data": {
      "text/plain": [
       "{'a': 2, 'c': 2, 'g': 4, 't': 4}"
      ]
     },
     "execution_count": 17,
     "metadata": {},
     "output_type": "execute_result"
    }
   ],
   "source": [
    "counts"
   ]
  },
  {
   "cell_type": "markdown",
   "metadata": {},
   "source": [
    "Since keys can be any string, we can use a similar loop to count triplet (or codon) frequency"
   ]
  },
  {
   "cell_type": "code",
   "execution_count": 18,
   "metadata": {
    "collapsed": true
   },
   "outputs": [],
   "source": [
    "k = 3"
   ]
  },
  {
   "cell_type": "code",
   "execution_count": 19,
   "metadata": {
    "collapsed": true
   },
   "outputs": [],
   "source": [
    "kmercounts = {}"
   ]
  },
  {
   "cell_type": "code",
   "execution_count": 20,
   "metadata": {
    "collapsed": false
   },
   "outputs": [],
   "source": [
    "for i in range(len(sequence) - k + 1):\n",
    "    kmer = sequence[i:i+k]\n",
    "    if not kmer in kmercounts:\n",
    "        kmercounts[kmer] = 1\n",
    "    else:\n",
    "        kmercounts[kmer] += 1"
   ]
  },
  {
   "cell_type": "code",
   "execution_count": 21,
   "metadata": {
    "collapsed": false
   },
   "outputs": [
    {
     "data": {
      "text/plain": [
       "{'acg': 1,\n",
       " 'att': 1,\n",
       " 'cgg': 2,\n",
       " 'ggt': 2,\n",
       " 'gta': 1,\n",
       " 'tat': 1,\n",
       " 'tcg': 1,\n",
       " 'ttc': 1}"
      ]
     },
     "execution_count": 21,
     "metadata": {},
     "output_type": "execute_result"
    }
   ],
   "source": [
    "kmercounts"
   ]
  },
  {
   "cell_type": "markdown",
   "metadata": {},
   "source": [
    "## Using dicts to build graphs\n",
    "\n",
    "We can use dicts to build data structures to represent graphs. I want to build a graph with 4 nodes, labeled 1, 2, 3, and 4, with edges between 1-2, 1-3, 1-4, and 2-3 as shown in Figure 1. We can use a dict, with the nodes as keys, and the list of nodes connected to the key as the value."
   ]
  },
  {
   "cell_type": "code",
   "execution_count": 22,
   "metadata": {
    "collapsed": false
   },
   "outputs": [
    {
     "data": {
      "image/svg+xml": [
       "<svg contentScriptType=\"text/ecmascript\" contentStyleType=\"text/css\" height=\"368.0\" preserveAspectRatio=\"xMidYMid meet\" version=\"1.1\" viewBox=\"-124.000000 -157.000000 204.000000 368.000000\" width=\"204.0\" xmlns=\"http://www.w3.org/2000/svg\" xmlns:xlink=\"http://www.w3.org/1999/xlink\" zoomAndPan=\"magnify\">\n",
       "    <g id=\"edges\">\n",
       "        <path class=\"0 1\" d=\"M 59.445026,190.935074 C 17.595516,168.963745 -12.221764,73.232491 9.749562,31.382978\" fill=\"none\" stroke=\"#999999\" stroke-opacity=\"1.0\" stroke-width=\"3.0\"/>\n",
       "        <path class=\"1 2\" d=\"M 9.749562,31.382978 C -38.030006,28.829487 -105.869125,-46.670105 -103.315628,-94.449669\" fill=\"none\" stroke=\"#999999\" stroke-opacity=\"1.0\" stroke-width=\"3.0\"/>\n",
       "        <path class=\"1 3\" d=\"M 9.749562,31.382978 C -19.470890,-6.520188 -6.446815,-107.205612 31.456350,-136.426071\" fill=\"none\" stroke=\"#999999\" stroke-opacity=\"1.0\" stroke-width=\"3.0\"/>\n",
       "        <path class=\"3 2\" d=\"M 31.456350,-136.426071 C 12.897238,-101.076401 -67.965958,-75.890556 -103.315628,-94.449669\" fill=\"none\" stroke=\"#999999\" stroke-opacity=\"1.0\" stroke-width=\"3.0\"/>\n",
       "    </g>\n",
       "    <g id=\"nodes\">\n",
       "        <circle class=\"0\" cx=\"59.445026\" cy=\"190.93507\" fill=\"#999999\" fill-opacity=\"1.0\" r=\"20.0\" stroke=\"#000000\" stroke-opacity=\"1.0\" stroke-width=\"1.0\"/>\n",
       "        <circle class=\"1\" cx=\"9.749562\" cy=\"31.382978\" fill=\"#999999\" fill-opacity=\"1.0\" r=\"20.0\" stroke=\"#000000\" stroke-opacity=\"1.0\" stroke-width=\"1.0\"/>\n",
       "        <circle class=\"2\" cx=\"-103.31563\" cy=\"-94.44967\" fill=\"#999999\" fill-opacity=\"1.0\" r=\"20.0\" stroke=\"#000000\" stroke-opacity=\"1.0\" stroke-width=\"1.0\"/>\n",
       "        <circle class=\"3\" cx=\"31.45635\" cy=\"-136.42607\" fill=\"#999999\" fill-opacity=\"1.0\" r=\"20.0\" stroke=\"#000000\" stroke-opacity=\"1.0\" stroke-width=\"1.0\"/>\n",
       "    </g>\n",
       "    <g id=\"node-labels\">\n",
       "        <text class=\"0\" fill=\"#000000\" font-family=\"Dialog\" font-size=\"48\" style=\"text-anchor: middle; dominant-baseline: central;\" x=\"59.445026\" y=\"199.68507\">\n",
       "            4\n",
       "        </text>\n",
       "        <text class=\"1\" fill=\"#000000\" font-family=\"Dialog\" font-size=\"48\" style=\"text-anchor: middle; dominant-baseline: central;\" x=\"9.749562\" y=\"40.13298\">\n",
       "            1\n",
       "        </text>\n",
       "        <text class=\"2\" fill=\"#000000\" font-family=\"Dialog\" font-size=\"48\" style=\"text-anchor: middle; dominant-baseline: central;\" x=\"-103.31563\" y=\"-85.371544\">\n",
       "            3\n",
       "        </text>\n",
       "        <text class=\"3\" fill=\"#000000\" font-family=\"Dialog\" font-size=\"48\" style=\"text-anchor: middle; dominant-baseline: central;\" x=\"31.45635\" y=\"-127.51982\">\n",
       "            2\n",
       "        </text>\n",
       "    </g>\n",
       "</svg>"
      ],
      "text/plain": [
       "<IPython.core.display.SVG object>"
      ]
     },
     "metadata": {},
     "output_type": "display_data"
    }
   ],
   "source": [
    "from IPython.core.display import SVG, display\n",
    "\n",
    "display(SVG(filename='fig-graph.svg'))"
   ]
  },
  {
   "cell_type": "code",
   "execution_count": 23,
   "metadata": {
    "collapsed": true
   },
   "outputs": [],
   "source": [
    "graph = {}"
   ]
  },
  {
   "cell_type": "code",
   "execution_count": 24,
   "metadata": {
    "collapsed": false
   },
   "outputs": [
    {
     "data": {
      "text/plain": [
       "{}"
      ]
     },
     "execution_count": 24,
     "metadata": {},
     "output_type": "execute_result"
    }
   ],
   "source": [
    "graph"
   ]
  },
  {
   "cell_type": "code",
   "execution_count": 25,
   "metadata": {
    "collapsed": true
   },
   "outputs": [],
   "source": [
    "graph[1] = [2, 3, 4]"
   ]
  },
  {
   "cell_type": "code",
   "execution_count": 26,
   "metadata": {
    "collapsed": false
   },
   "outputs": [
    {
     "data": {
      "text/plain": [
       "{1: [2, 3, 4]}"
      ]
     },
     "execution_count": 26,
     "metadata": {},
     "output_type": "execute_result"
    }
   ],
   "source": [
    "graph"
   ]
  },
  {
   "cell_type": "code",
   "execution_count": 27,
   "metadata": {
    "collapsed": true
   },
   "outputs": [],
   "source": [
    "graph[2] = [1, 3]"
   ]
  },
  {
   "cell_type": "code",
   "execution_count": 28,
   "metadata": {
    "collapsed": true
   },
   "outputs": [],
   "source": [
    "graph[3] = [1, 2]"
   ]
  },
  {
   "cell_type": "code",
   "execution_count": 29,
   "metadata": {
    "collapsed": true
   },
   "outputs": [],
   "source": [
    "graph[4] = [1]"
   ]
  },
  {
   "cell_type": "code",
   "execution_count": 30,
   "metadata": {
    "collapsed": false
   },
   "outputs": [
    {
     "data": {
      "text/plain": [
       "{1: [2, 3, 4], 2: [1, 3], 3: [1, 2], 4: [1]}"
      ]
     },
     "execution_count": 30,
     "metadata": {},
     "output_type": "execute_result"
    }
   ],
   "source": [
    "graph"
   ]
  },
  {
   "cell_type": "markdown",
   "metadata": {},
   "source": [
    "Now we can loop over the nodes, and extract the edges."
   ]
  },
  {
   "cell_type": "code",
   "execution_count": 31,
   "metadata": {
    "collapsed": false
   },
   "outputs": [
    {
     "name": "stdout",
     "output_type": "stream",
     "text": [
      "1 [2, 3, 4]\n",
      "2 [1, 3]\n",
      "3 [1, 2]\n",
      "4 [1]\n"
     ]
    }
   ],
   "source": [
    "for node in graph:\n",
    "    print(node, graph[node])"
   ]
  },
  {
   "cell_type": "markdown",
   "metadata": {},
   "source": [
    "# Homework\n",
    "\n",
    "A graph has an Eulerian cycle if you can construct a tour that traverses every edge once and returns to the starting vertex. A graph has an Eulerian path if you can start at one node, and traverse every edge once, ending at a different node than the start. Euler showed that these conditions correspond to every node has an even number of edges for a cycle, and every node except exactly 2 odd nodes have an even number of edges for a path.\n",
    "\n",
    "Our example graph above has an Eulerian path, but not an Eulerian cycle.\n",
    "\n",
    "Write a function `hasEulerianPath(G)` that returns 1 if graph G has an Eulerian path and 0 if it doesn't.\n",
    "\n",
    "# References\n",
    "\n",
    "[1] https://en.wikipedia.org/wiki/Eulerian_path\n",
    "\n",
    "[2] Neil C. Jones and Pavel A. Pevzner. An Introduction to Bioinformatics Algorithms. The MIT Press, Cambridge, Massachusetts. (2004). ISBN-10: 0-262-10106-8 ISBN-13: 978-0-262-10106-6.\n"
   ]
  }
 ],
 "metadata": {
  "anaconda-cloud": {},
  "kernelspec": {
   "display_name": "Python 3",
   "language": "python",
   "name": "python3"
  },
  "language_info": {
   "codemirror_mode": {
    "name": "ipython",
    "version": 3
   },
   "file_extension": ".py",
   "mimetype": "text/x-python",
   "name": "python",
   "nbconvert_exporter": "python",
   "pygments_lexer": "ipython3",
   "version": "3.5.0"
  }
 },
 "nbformat": 4,
 "nbformat_minor": 0
}
